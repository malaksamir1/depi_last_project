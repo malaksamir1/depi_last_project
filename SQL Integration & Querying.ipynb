{
 "cells": [
  {
   "cell_type": "code",
   "execution_count": 1,
   "id": "146507e8-04e2-4dc2-9fdf-e4266b0b3fc9",
   "metadata": {},
   "outputs": [],
   "source": [
    "import pandas as pd\n",
    "import sqlite3"
   ]
  },
  {
   "cell_type": "code",
   "execution_count": 2,
   "id": "1cc8009a-ca4e-4e1c-a340-6a06ec0a41d3",
   "metadata": {},
   "outputs": [],
   "source": [
    "df = pd.read_csv('cleaned_students_data.csv')"
   ]
  },
  {
   "cell_type": "code",
   "execution_count": 3,
   "id": "d97ae768-3570-4043-9c3d-9f6e6b20d2ef",
   "metadata": {},
   "outputs": [
    {
     "data": {
      "text/html": [
       "<div>\n",
       "<style scoped>\n",
       "    .dataframe tbody tr th:only-of-type {\n",
       "        vertical-align: middle;\n",
       "    }\n",
       "\n",
       "    .dataframe tbody tr th {\n",
       "        vertical-align: top;\n",
       "    }\n",
       "\n",
       "    .dataframe thead th {\n",
       "        text-align: right;\n",
       "    }\n",
       "</style>\n",
       "<table border=\"1\" class=\"dataframe\">\n",
       "  <thead>\n",
       "    <tr style=\"text-align: right;\">\n",
       "      <th></th>\n",
       "      <th>student_id</th>\n",
       "      <th>name</th>\n",
       "      <th>subject</th>\n",
       "      <th>score</th>\n",
       "      <th>date</th>\n",
       "      <th>attendance</th>\n",
       "      <th>performance_category</th>\n",
       "    </tr>\n",
       "  </thead>\n",
       "  <tbody>\n",
       "    <tr>\n",
       "      <th>0</th>\n",
       "      <td>109</td>\n",
       "      <td>Janice Ortiz</td>\n",
       "      <td>Computer</td>\n",
       "      <td>72.0</td>\n",
       "      <td>2024-10-25</td>\n",
       "      <td>35</td>\n",
       "      <td>Medium</td>\n",
       "    </tr>\n",
       "    <tr>\n",
       "      <th>1</th>\n",
       "      <td>156</td>\n",
       "      <td>Curtis Rivera</td>\n",
       "      <td>English</td>\n",
       "      <td>94.0</td>\n",
       "      <td>2025-06-30</td>\n",
       "      <td>40</td>\n",
       "      <td>High</td>\n",
       "    </tr>\n",
       "    <tr>\n",
       "      <th>2</th>\n",
       "      <td>177</td>\n",
       "      <td>Chad Diaz</td>\n",
       "      <td>History</td>\n",
       "      <td>100.0</td>\n",
       "      <td>2025-09-19</td>\n",
       "      <td>21</td>\n",
       "      <td>High</td>\n",
       "    </tr>\n",
       "    <tr>\n",
       "      <th>3</th>\n",
       "      <td>132</td>\n",
       "      <td>Aaron Wilson</td>\n",
       "      <td>History</td>\n",
       "      <td>53.0</td>\n",
       "      <td>2024-11-26</td>\n",
       "      <td>33</td>\n",
       "      <td>Low</td>\n",
       "    </tr>\n",
       "    <tr>\n",
       "      <th>4</th>\n",
       "      <td>160</td>\n",
       "      <td>Danielle Barron</td>\n",
       "      <td>Computer</td>\n",
       "      <td>68.0</td>\n",
       "      <td>2025-04-18</td>\n",
       "      <td>24</td>\n",
       "      <td>Low</td>\n",
       "    </tr>\n",
       "  </tbody>\n",
       "</table>\n",
       "</div>"
      ],
      "text/plain": [
       "   student_id             name   subject  score        date  attendance  \\\n",
       "0         109     Janice Ortiz  Computer   72.0  2024-10-25          35   \n",
       "1         156    Curtis Rivera   English   94.0  2025-06-30          40   \n",
       "2         177        Chad Diaz   History  100.0  2025-09-19          21   \n",
       "3         132     Aaron Wilson   History   53.0  2024-11-26          33   \n",
       "4         160  Danielle Barron  Computer   68.0  2025-04-18          24   \n",
       "\n",
       "  performance_category  \n",
       "0               Medium  \n",
       "1                 High  \n",
       "2                 High  \n",
       "3                  Low  \n",
       "4                  Low  "
      ]
     },
     "execution_count": 3,
     "metadata": {},
     "output_type": "execute_result"
    }
   ],
   "source": [
    "df.head()"
   ]
  },
  {
   "cell_type": "code",
   "execution_count": 4,
   "id": "8193fb55-87d6-4e2c-9490-18f0f73fa537",
   "metadata": {},
   "outputs": [],
   "source": [
    "conn = sqlite3.connect('students_performances.db')"
   ]
  },
  {
   "cell_type": "code",
   "execution_count": 5,
   "id": "dba12925-2d7c-4805-9b4b-9e5dc6438ea8",
   "metadata": {},
   "outputs": [],
   "source": [
    "cur = conn.cursor()"
   ]
  },
  {
   "cell_type": "code",
   "execution_count": 6,
   "id": "3900f259-ad5b-4437-bbc2-f3f50726ab37",
   "metadata": {},
   "outputs": [
    {
     "data": {
      "text/plain": [
       "<sqlite3.Cursor at 0x1d6ae2ad140>"
      ]
     },
     "execution_count": 6,
     "metadata": {},
     "output_type": "execute_result"
    }
   ],
   "source": [
    "cur.executescript(\"\"\"\n",
    "\n",
    "    DROP TABLE IF EXISTS StagingStudentPerformance;\n",
    "    \n",
    "    CREATE TABLE StagingStudentPerformance (\n",
    "    student_id            INTEGER,\n",
    "    name                  TEXT,\n",
    "    subject               TEXT,\n",
    "    score                 REAL,\n",
    "    date                  TEXT,\n",
    "    attendance            INTEGER,\n",
    "    performance_category  TEXT\n",
    "    );\n",
    "\n",
    "    \"\"\") "
   ]
  },
  {
   "cell_type": "code",
   "execution_count": 7,
   "id": "0cce563d-b4ad-4390-a8b8-b17e694aa736",
   "metadata": {},
   "outputs": [],
   "source": [
    "cur.executescript(\"\"\"\n",
    "    CREATE TABLE IF NOT EXISTS dim_students (\n",
    "        student_sk INTEGER PRIMARY KEY AUTOINCREMENT,\n",
    "        student_id INTEGER,\n",
    "        student_name TEXT NOT NULL\n",
    "    );\n",
    "\n",
    "    CREATE TABLE IF NOT EXISTS dim_subject (\n",
    "        subject_sk INTEGER PRIMARY KEY AUTOINCREMENT,\n",
    "        subject_name TEXT\n",
    "    );\n",
    "\n",
    "    CREATE TABLE IF NOT EXISTS dim_performance_category (\n",
    "        performance_sk   INTEGER PRIMARY KEY AUTOINCREMENT,\n",
    "        performance_category_name TEXT NOT NULL\n",
    "    );\n",
    "\n",
    "    CREATE TABLE IF NOT EXISTS dim_date (\n",
    "        date_sk INTEGER PRIMARY KEY AUTOINCREMENT,\n",
    "        date TEXT,\n",
    "        year INTEGER,\n",
    "        month INTEGER,\n",
    "        day INTEGER,\n",
    "        month_name TEXT,\n",
    "        quarter INTEGER\n",
    "    );\n",
    "\n",
    "    CREATE TABLE IF NOT EXISTS fact_student_performance (\n",
    "        fact_id_sk INTEGER PRIMARY KEY AUTOINCREMENT,\n",
    "        score INTEGER,\n",
    "        attendance INTEGER,\n",
    "        student_fk INTEGER,\n",
    "        subject_fk INTEGER,\n",
    "        date_fk INTEGER,\n",
    "        performance_fk INTEGER,\n",
    "        FOREIGN KEY(student_fk) REFERENCES dim_students(student_sk),\n",
    "        FOREIGN KEY(subject_fk) REFERENCES dim_subject(subject_sk),\n",
    "        FOREIGN KEY(date_fk) REFERENCES dim_date(date_sk),\n",
    "        FOREIGN KEY(performance_fk) REFERENCES dim_performance_category(performance_sk)\n",
    "    );\n",
    "    \"\"\")\n",
    "\n",
    "conn.commit()"
   ]
  },
  {
   "cell_type": "code",
   "execution_count": 8,
   "id": "6314fe29-fcea-4c02-b64f-eedcbb514eec",
   "metadata": {},
   "outputs": [],
   "source": [
    "cur = conn.cursor()\n",
    "\n",
    "df[\"student_id\"] = df[\"student_id\"].astype(str).str.strip()\n",
    "df[\"student_name\"] = df[\"name\"].astype(str).str.strip()\n",
    "df[\"subject\"] = df[\"subject\"].astype(str).str.strip()\n",
    "df[\"performance_category\"] = df[\"performance_category\"].astype(str).str.strip()\n",
    "df[\"date\"] = pd.to_datetime(df[\"date\"]).dt.strftime(\"%Y-%m-%d\")\n",
    "df[\"score\"] = df[\"score\"].astype(int)\n",
    "df[\"attendance\"] = df[\"attendance\"].astype(int)\n",
    "conn.commit()"
   ]
  },
  {
   "cell_type": "code",
   "execution_count": 9,
   "id": "236ac410-0123-4e6c-86bc-71aba2fcd183",
   "metadata": {},
   "outputs": [],
   "source": [
    "df.to_sql(\"staging_student_performance\", conn, if_exists=\"replace\", index=False)\n",
    "conn.commit()"
   ]
  },
  {
   "cell_type": "code",
   "execution_count": 10,
   "id": "312fdcc1-e672-4f62-a379-f0898df08d17",
   "metadata": {},
   "outputs": [],
   "source": [
    "cur.execute(\"\"\"\n",
    "INSERT INTO dim_students (student_id, student_name)\n",
    "SELECT DISTINCT student_id, student_name\n",
    "FROM staging_student_performance;\n",
    "\"\"\")\n",
    "conn.commit()"
   ]
  },
  {
   "cell_type": "code",
   "execution_count": 11,
   "id": "c4729f07-14d9-4f2d-9ccc-153de411125d",
   "metadata": {},
   "outputs": [],
   "source": [
    "cur.execute(\"\"\"\n",
    "INSERT INTO dim_subject (subject_name)\n",
    "SELECT DISTINCT subject\n",
    "FROM staging_student_performance;\n",
    "\"\"\")\n",
    "conn.commit()"
   ]
  },
  {
   "cell_type": "code",
   "execution_count": 12,
   "id": "df0d08ca-7930-4664-a511-a1067c5db956",
   "metadata": {},
   "outputs": [],
   "source": [
    "cur.execute(\"\"\"\n",
    "INSERT INTO dim_performance_category (performance_category_name)\n",
    "SELECT DISTINCT performance_category\n",
    "FROM staging_student_performance;\n",
    "\"\"\")\n",
    "conn.commit()"
   ]
  },
  {
   "cell_type": "code",
   "execution_count": 13,
   "id": "65d38cfd-9727-45ea-8904-b241a9ec1317",
   "metadata": {},
   "outputs": [],
   "source": [
    "cur.execute(\"\"\"\n",
    "INSERT INTO dim_date (date, year, month, day, month_name, quarter)\n",
    "SELECT DISTINCT \n",
    "    date,\n",
    "    CAST(strftime('%Y', date) AS INTEGER),\n",
    "    CAST(strftime('%m', date) AS INTEGER),\n",
    "    CAST(strftime('%d', date) AS INTEGER),\n",
    "    strftime('%m', date), \n",
    "    CAST((strftime('%m', date) - 1) / 3 + 1 AS INTEGER)\n",
    "FROM staging_student_performance;\n",
    "\"\"\")\n",
    "conn.commit()"
   ]
  },
  {
   "cell_type": "code",
   "execution_count": 14,
   "id": "5c738a02-4eba-401f-b6cc-70ebaf5d565e",
   "metadata": {},
   "outputs": [],
   "source": [
    "cur.execute(\"\"\"\n",
    "INSERT INTO fact_student_performance (\n",
    "    score, attendance, student_fk, subject_fk, date_fk, performance_fk\n",
    ")\n",
    "SELECT \n",
    "    stg.score,\n",
    "    stg.attendance,\n",
    "    s.student_sk,\n",
    "    sub.subject_sk,\n",
    "    d.date_sk,\n",
    "    p.performance_sk\n",
    "FROM staging_student_performance stg\n",
    "JOIN dim_students s ON s.student_id = stg.student_id\n",
    "JOIN dim_subject sub ON sub.subject_name = stg.subject\n",
    "JOIN dim_date d ON d.date = stg.date\n",
    "JOIN dim_performance_category p ON p.performance_category_name = stg.performance_category;\n",
    "\n",
    "\"\"\")\n",
    "conn.commit()"
   ]
  },
  {
   "cell_type": "code",
   "execution_count": 15,
   "id": "2d83b2f3-2e6f-4c47-803a-6512b73ce1ff",
   "metadata": {},
   "outputs": [
    {
     "name": "stdout",
     "output_type": "stream",
     "text": [
      "(1, 109, 'Janice Ortiz')\n",
      "(2, 156, 'Curtis Rivera')\n"
     ]
    }
   ],
   "source": [
    "statement =\"SELECT * FROM dim_students\"\n",
    "cur.execute(statement)\n",
    "  \n",
    "output1 = cur.fetchmany(2)\n",
    "for row in output1:\n",
    "  print(row)"
   ]
  },
  {
   "cell_type": "code",
   "execution_count": 16,
   "id": "54ffbf76-229a-4d50-ba0e-542c50c8730e",
   "metadata": {},
   "outputs": [
    {
     "name": "stdout",
     "output_type": "stream",
     "text": [
      "(7232,)\n"
     ]
    }
   ],
   "source": [
    "cur.execute(\"SELECT COUNT(*) FROM fact_student_performance;\")\n",
    "print(cur.fetchone())\n"
   ]
  },
  {
   "cell_type": "code",
   "execution_count": 19,
   "id": "4eeb6a89-b78b-40c0-87c0-8935c0a72878",
   "metadata": {},
   "outputs": [
    {
     "name": "stdout",
     "output_type": "stream",
     "text": [
      "('Chad Diaz', 'History', 100)\n",
      "('Charles Brown', 'History', 100)\n",
      "('Janet Bryant', 'History', 100)\n",
      "('Cindy Santana', 'History', 100)\n",
      "('Michelle Norman', 'History', 100)\n",
      "('Todd George', 'History', 100)\n",
      "('Chad Diaz', 'History', 100)\n",
      "('Charles Brown', 'History', 100)\n",
      "('Janet Bryant', 'History', 100)\n",
      "('Cindy Santana', 'History', 100)\n"
     ]
    }
   ],
   "source": [
    "top_students =\"\"\"SELECT s.student_name,\n",
    "                 sub.subject_name,\n",
    "                 f.score\n",
    "                 FROM fact_student_performance f\n",
    "                 JOIN dim_students s ON f.student_fk = s.student_sk\n",
    "                 JOIN dim_subject sub ON f.subject_fk = sub.subject_sk\n",
    "                 WHERE f.score = (\n",
    "                     SELECT MAX(f2.score)\n",
    "                     FROM fact_student_performance f2\n",
    "                     WHERE f2.subject_fk = f.subject_fk\n",
    "                 );\n",
    "\"\"\"\n",
    "cur.execute(top_students)\n",
    "  \n",
    "output1 = cur.fetchmany(10)\n",
    "for row in output1:\n",
    "  print(row)"
   ]
  },
  {
   "cell_type": "code",
   "execution_count": 29,
   "id": "26a6899a-2dcb-42e0-9a26-1e067cfee127",
   "metadata": {},
   "outputs": [
    {
     "name": "stdout",
     "output_type": "stream",
     "text": [
      "('2024-10', 27.936026936026938)\n",
      "('2024-11', 31.647959183673468)\n",
      "('2024-12', 31.16591928251121)\n",
      "('2025-01', 28.91810344827586)\n",
      "('2025-02', 29.726315789473684)\n",
      "('2025-03', 29.08076923076923)\n",
      "('2025-04', 29.0)\n",
      "('2025-05', 29.89119170984456)\n",
      "('2025-06', 30.562130177514792)\n",
      "('2025-07', 29.20138888888889)\n"
     ]
    }
   ],
   "source": [
    "attendance = \"\"\"\n",
    "                SELECT \n",
    "                    strftime('%Y-%m', d.date) AS month, \n",
    "                    AVG(f.attendance) AS avg_attendance\n",
    "                FROM fact_student_performance f\n",
    "                JOIN dim_date d ON f.date_fk = d.date_sk\n",
    "                GROUP BY month\n",
    "                ORDER BY month;\n",
    "\"\"\"\n",
    "cur.execute(attendance)\n",
    "  \n",
    "output2 = cur.fetchmany(10)\n",
    "for row in output2:\n",
    "  print(row)"
   ]
  },
  {
   "cell_type": "code",
   "execution_count": 30,
   "id": "f4f30eef-84b5-463e-9f31-6200e88e6043",
   "metadata": {},
   "outputs": [
    {
     "name": "stdout",
     "output_type": "stream",
     "text": [
      "('English', 73.57)\n",
      "('Science', 73.47)\n",
      "('Geography', 71.24)\n",
      "('History', 70.92)\n",
      "('Computer', 70.5)\n",
      "('Physics', 70.04)\n",
      "('Chemistry', 69.96)\n",
      "('Math', 69.8)\n",
      "('Biology', 67.89)\n"
     ]
    }
   ],
   "source": [
    "average_score_per_subject=\"\"\"\n",
    "SELECT sub.subject_name,\n",
    "       ROUND(AVG(f.score), 2) AS avg_score\n",
    "FROM fact_student_performance f\n",
    "JOIN dim_subject sub ON f.subject_fk = sub.subject_sk\n",
    "GROUP BY sub.subject_name\n",
    "ORDER BY avg_score DESC;\n",
    "\"\"\"\n",
    "cur.execute(average_score_per_subject)\n",
    "output1 = cur.fetchall()\n",
    "for row in output1:\n",
    "  print(row)"
   ]
  },
  {
   "cell_type": "code",
   "execution_count": 33,
   "id": "db476a38-37e4-44c7-aead-4a9960b3f1e6",
   "metadata": {},
   "outputs": [
    {
     "name": "stdout",
     "output_type": "stream",
     "text": [
      "('Biology', 30.17, 67.89)\n",
      "('Chemistry', 30.52, 69.96)\n",
      "('Computer', 30.9, 70.5)\n",
      "('English', 29.67, 73.57)\n",
      "('Geography', 30.18, 71.24)\n",
      "('History', 30.15, 70.92)\n",
      "('Math', 29.72, 69.8)\n",
      "('Physics', 30.85, 70.04)\n",
      "('Science', 28.38, 73.47)\n"
     ]
    }
   ],
   "source": [
    "Attendance_Score=\"\"\"\n",
    "SELECT sub.subject_name,\n",
    "       ROUND(AVG(f.attendance), 2) AS avg_attendance,\n",
    "       ROUND(AVG(f.score), 2) AS avg_score\n",
    "FROM fact_student_performance f\n",
    "JOIN dim_subject sub ON f.subject_fk = sub.subject_sk\n",
    "GROUP BY sub.subject_name;\n",
    "\n",
    "\"\"\"\n",
    "cur.execute(Attendance_Score)\n",
    "output1 = cur.fetchall()\n",
    "for row in output1:\n",
    "  print(row)"
   ]
  },
  {
   "cell_type": "code",
   "execution_count": null,
   "id": "07c87991-0e5d-41fe-9df8-2986d2d8d9d0",
   "metadata": {},
   "outputs": [],
   "source": []
  }
 ],
 "metadata": {
  "kernelspec": {
   "display_name": "Python [conda env:base] *",
   "language": "python",
   "name": "conda-base-py"
  },
  "language_info": {
   "codemirror_mode": {
    "name": "ipython",
    "version": 3
   },
   "file_extension": ".py",
   "mimetype": "text/x-python",
   "name": "python",
   "nbconvert_exporter": "python",
   "pygments_lexer": "ipython3",
   "version": "3.13.5"
  }
 },
 "nbformat": 4,
 "nbformat_minor": 5
}
